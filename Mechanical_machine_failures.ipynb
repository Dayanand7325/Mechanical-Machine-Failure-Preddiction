{
 "cells": [
  {
   "cell_type": "markdown",
   "id": "18d53c64",
   "metadata": {},
   "source": [
    "# Mechanical Machine Failures Predictive Maintenance Dataset Data Set"
   ]
  },
  {
   "cell_type": "markdown",
   "id": "dfd2ef76",
   "metadata": {},
   "source": [
    "# Attribute Information:"
   ]
  },
  {
   "cell_type": "markdown",
   "id": "56764bf9",
   "metadata": {},
   "source": [
    "The dataset consists of 10000 data points stored as rows with 14 features in columns:-\n",
    "    \n",
    "UID: unique identifier ranging from 1 to 10000\n",
    "    \n",
    "product ID: consisting of a letter L, M, or H for low (50% of all products), medium (30%) and high (20%) as product quality variants and a variant-specific serial number\n",
    "    \n",
    "air temperature [K]: generated using a random walk process later normalized to a standard deviation of 2 K around 300 K\n",
    "    \n",
    "process temperature [K]: generated using a random walk process normalized to a standard deviation of 1 K, added to the air temperature plus 10 K.\n",
    "    \n",
    "rotational speed [rpm]: calculated from a power of 2860 W, overlaid with a normally distributed noise\n",
    "    \n",
    "torque [Nm]: torque values are normally distributed around 40 Nm with a Ïƒ = 10 Nm and no negative values.\n",
    "    \n",
    "tool wear [min]: The quality variants H/M/L add 5/3/2 minutes of tool wear to the used tool in the process. \n",
    "    \n",
    "machine_failure: 'machine failure' label that indicates, whether the machine has failed in this particular datapoint for any of the following failure modes are true.\n"
   ]
  },
  {
   "cell_type": "markdown",
   "id": "a67d7b09",
   "metadata": {},
   "source": [
    "# The machine failure consists of five independent failure modes:-"
   ]
  },
  {
   "cell_type": "markdown",
   "id": "26f0a572",
   "metadata": {},
   "source": [
    "tool wear failure (TWF): the tool will be replaced of fail at a randomly selected tool wear time between 200 to 240 mins (120 times in our dataset). At this point in time, the tool is replaced 69 times, and fails 51 times (randomly assigned).\n",
    "\n",
    "heat dissipation failure (HDF): heat dissipation causes a process failure, if the difference between air- and process temperature is below 8.6 K and the tools rotational speed is below 1380 rpm. This is the case for 115 data points.\n",
    "\n",
    "power failure (PWF): the product of torque and rotational speed (in rad/s) equals the power required for the process. If this power is below 3500 W or above 9000 W, the process fails, which is the case 95 times in our dataset.\n",
    "\n",
    "overstrain failure (OSF): if the product of tool wear and torque exceeds 11,000 minNm for the L product variant (12,000 M, 13,000 H), the process fails due to overstrain. This is true for 98 datapoints.\n",
    "\n",
    "random failures (RNF): each process has a chance of 0,1 % to fail regardless of its process parameters. This is the case for only 5 datapoints, less than could be expected for 10,000 datapoints in our dataset.\n",
    "\n",
    "If at least one of the above failure modes is true, the process fails and the 'machine failure' label is set to 1. It is therefore not transparent to the machine learning method, which of the failure modes has caused the process to fail"
   ]
  },
  {
   "cell_type": "code",
   "execution_count": null,
   "id": "a86369e6",
   "metadata": {},
   "outputs": [],
   "source": []
  },
  {
   "cell_type": "code",
   "execution_count": 1,
   "id": "b3ce5cb5",
   "metadata": {},
   "outputs": [],
   "source": [
    " # import libraries required for data Analysis\n",
    "import pandas as pd                      \n",
    "import numpy as np\n",
    "import matplotlib.pyplot as plt\n",
    "\n",
    "import seaborn as sns\n",
    "import sidetable\n",
    "import warnings\n",
    "warnings.filterwarnings('ignore')"
   ]
  },
  {
   "cell_type": "code",
   "execution_count": 2,
   "id": "b54bce62",
   "metadata": {},
   "outputs": [],
   "source": [
    "# import dataset\n",
    "mf =  pd.read_csv(r\"D:\\pandas\\machine_failures.csv\")"
   ]
  },
  {
   "cell_type": "code",
   "execution_count": 3,
   "id": "cad37685",
   "metadata": {
    "scrolled": false
   },
   "outputs": [
    {
     "data": {
      "text/html": [
       "<div>\n",
       "<style scoped>\n",
       "    .dataframe tbody tr th:only-of-type {\n",
       "        vertical-align: middle;\n",
       "    }\n",
       "\n",
       "    .dataframe tbody tr th {\n",
       "        vertical-align: top;\n",
       "    }\n",
       "\n",
       "    .dataframe thead th {\n",
       "        text-align: right;\n",
       "    }\n",
       "</style>\n",
       "<table border=\"1\" class=\"dataframe\">\n",
       "  <thead>\n",
       "    <tr style=\"text-align: right;\">\n",
       "      <th></th>\n",
       "      <th>UDI</th>\n",
       "      <th>Product ID</th>\n",
       "      <th>Type</th>\n",
       "      <th>Air temperature [K]</th>\n",
       "      <th>Process temperature [K]</th>\n",
       "      <th>Rotational speed [rpm]</th>\n",
       "      <th>Torque [Nm]</th>\n",
       "      <th>Tool wear [min]</th>\n",
       "      <th>Machine failure</th>\n",
       "      <th>TWF</th>\n",
       "      <th>HDF</th>\n",
       "      <th>PWF</th>\n",
       "      <th>OSF</th>\n",
       "      <th>RNF</th>\n",
       "    </tr>\n",
       "  </thead>\n",
       "  <tbody>\n",
       "    <tr>\n",
       "      <th>0</th>\n",
       "      <td>1</td>\n",
       "      <td>M14860</td>\n",
       "      <td>M</td>\n",
       "      <td>298.1</td>\n",
       "      <td>308.6</td>\n",
       "      <td>1551</td>\n",
       "      <td>42.8</td>\n",
       "      <td>0</td>\n",
       "      <td>0</td>\n",
       "      <td>0</td>\n",
       "      <td>0</td>\n",
       "      <td>0</td>\n",
       "      <td>0</td>\n",
       "      <td>0</td>\n",
       "    </tr>\n",
       "    <tr>\n",
       "      <th>1</th>\n",
       "      <td>2</td>\n",
       "      <td>L47181</td>\n",
       "      <td>L</td>\n",
       "      <td>298.2</td>\n",
       "      <td>308.7</td>\n",
       "      <td>1408</td>\n",
       "      <td>46.3</td>\n",
       "      <td>3</td>\n",
       "      <td>0</td>\n",
       "      <td>0</td>\n",
       "      <td>0</td>\n",
       "      <td>0</td>\n",
       "      <td>0</td>\n",
       "      <td>0</td>\n",
       "    </tr>\n",
       "    <tr>\n",
       "      <th>2</th>\n",
       "      <td>3</td>\n",
       "      <td>L47182</td>\n",
       "      <td>L</td>\n",
       "      <td>298.1</td>\n",
       "      <td>308.5</td>\n",
       "      <td>1498</td>\n",
       "      <td>49.4</td>\n",
       "      <td>5</td>\n",
       "      <td>0</td>\n",
       "      <td>0</td>\n",
       "      <td>0</td>\n",
       "      <td>0</td>\n",
       "      <td>0</td>\n",
       "      <td>0</td>\n",
       "    </tr>\n",
       "    <tr>\n",
       "      <th>3</th>\n",
       "      <td>4</td>\n",
       "      <td>L47183</td>\n",
       "      <td>L</td>\n",
       "      <td>298.2</td>\n",
       "      <td>308.6</td>\n",
       "      <td>1433</td>\n",
       "      <td>39.5</td>\n",
       "      <td>7</td>\n",
       "      <td>0</td>\n",
       "      <td>0</td>\n",
       "      <td>0</td>\n",
       "      <td>0</td>\n",
       "      <td>0</td>\n",
       "      <td>0</td>\n",
       "    </tr>\n",
       "    <tr>\n",
       "      <th>4</th>\n",
       "      <td>5</td>\n",
       "      <td>L47184</td>\n",
       "      <td>L</td>\n",
       "      <td>298.2</td>\n",
       "      <td>308.7</td>\n",
       "      <td>1408</td>\n",
       "      <td>40.0</td>\n",
       "      <td>9</td>\n",
       "      <td>0</td>\n",
       "      <td>0</td>\n",
       "      <td>0</td>\n",
       "      <td>0</td>\n",
       "      <td>0</td>\n",
       "      <td>0</td>\n",
       "    </tr>\n",
       "  </tbody>\n",
       "</table>\n",
       "</div>"
      ],
      "text/plain": [
       "   UDI Product ID Type  Air temperature [K]  Process temperature [K]  \\\n",
       "0    1     M14860    M                298.1                    308.6   \n",
       "1    2     L47181    L                298.2                    308.7   \n",
       "2    3     L47182    L                298.1                    308.5   \n",
       "3    4     L47183    L                298.2                    308.6   \n",
       "4    5     L47184    L                298.2                    308.7   \n",
       "\n",
       "   Rotational speed [rpm]  Torque [Nm]  Tool wear [min]  Machine failure  TWF  \\\n",
       "0                    1551         42.8                0                0    0   \n",
       "1                    1408         46.3                3                0    0   \n",
       "2                    1498         49.4                5                0    0   \n",
       "3                    1433         39.5                7                0    0   \n",
       "4                    1408         40.0                9                0    0   \n",
       "\n",
       "   HDF  PWF  OSF  RNF  \n",
       "0    0    0    0    0  \n",
       "1    0    0    0    0  \n",
       "2    0    0    0    0  \n",
       "3    0    0    0    0  \n",
       "4    0    0    0    0  "
      ]
     },
     "execution_count": 3,
     "metadata": {},
     "output_type": "execute_result"
    }
   ],
   "source": [
    "# to check the first five fields\n",
    "mf.head()"
   ]
  },
  {
   "cell_type": "code",
   "execution_count": 4,
   "id": "89280e23",
   "metadata": {},
   "outputs": [
    {
     "data": {
      "text/html": [
       "<div>\n",
       "<style scoped>\n",
       "    .dataframe tbody tr th:only-of-type {\n",
       "        vertical-align: middle;\n",
       "    }\n",
       "\n",
       "    .dataframe tbody tr th {\n",
       "        vertical-align: top;\n",
       "    }\n",
       "\n",
       "    .dataframe thead th {\n",
       "        text-align: right;\n",
       "    }\n",
       "</style>\n",
       "<table border=\"1\" class=\"dataframe\">\n",
       "  <thead>\n",
       "    <tr style=\"text-align: right;\">\n",
       "      <th></th>\n",
       "      <th>UDI</th>\n",
       "      <th>Product ID</th>\n",
       "      <th>Type</th>\n",
       "      <th>Air temperature [K]</th>\n",
       "      <th>Process temperature [K]</th>\n",
       "      <th>Rotational speed [rpm]</th>\n",
       "      <th>Torque [Nm]</th>\n",
       "      <th>Tool wear [min]</th>\n",
       "      <th>Machine failure</th>\n",
       "      <th>TWF</th>\n",
       "      <th>HDF</th>\n",
       "      <th>PWF</th>\n",
       "      <th>OSF</th>\n",
       "      <th>RNF</th>\n",
       "    </tr>\n",
       "  </thead>\n",
       "  <tbody>\n",
       "    <tr>\n",
       "      <th>9995</th>\n",
       "      <td>9996</td>\n",
       "      <td>M24855</td>\n",
       "      <td>M</td>\n",
       "      <td>298.8</td>\n",
       "      <td>308.4</td>\n",
       "      <td>1604</td>\n",
       "      <td>29.5</td>\n",
       "      <td>14</td>\n",
       "      <td>0</td>\n",
       "      <td>0</td>\n",
       "      <td>0</td>\n",
       "      <td>0</td>\n",
       "      <td>0</td>\n",
       "      <td>0</td>\n",
       "    </tr>\n",
       "    <tr>\n",
       "      <th>9996</th>\n",
       "      <td>9997</td>\n",
       "      <td>H39410</td>\n",
       "      <td>H</td>\n",
       "      <td>298.9</td>\n",
       "      <td>308.4</td>\n",
       "      <td>1632</td>\n",
       "      <td>31.8</td>\n",
       "      <td>17</td>\n",
       "      <td>0</td>\n",
       "      <td>0</td>\n",
       "      <td>0</td>\n",
       "      <td>0</td>\n",
       "      <td>0</td>\n",
       "      <td>0</td>\n",
       "    </tr>\n",
       "    <tr>\n",
       "      <th>9997</th>\n",
       "      <td>9998</td>\n",
       "      <td>M24857</td>\n",
       "      <td>M</td>\n",
       "      <td>299.0</td>\n",
       "      <td>308.6</td>\n",
       "      <td>1645</td>\n",
       "      <td>33.4</td>\n",
       "      <td>22</td>\n",
       "      <td>0</td>\n",
       "      <td>0</td>\n",
       "      <td>0</td>\n",
       "      <td>0</td>\n",
       "      <td>0</td>\n",
       "      <td>0</td>\n",
       "    </tr>\n",
       "    <tr>\n",
       "      <th>9998</th>\n",
       "      <td>9999</td>\n",
       "      <td>H39412</td>\n",
       "      <td>H</td>\n",
       "      <td>299.0</td>\n",
       "      <td>308.7</td>\n",
       "      <td>1408</td>\n",
       "      <td>48.5</td>\n",
       "      <td>25</td>\n",
       "      <td>0</td>\n",
       "      <td>0</td>\n",
       "      <td>0</td>\n",
       "      <td>0</td>\n",
       "      <td>0</td>\n",
       "      <td>0</td>\n",
       "    </tr>\n",
       "    <tr>\n",
       "      <th>9999</th>\n",
       "      <td>10000</td>\n",
       "      <td>M24859</td>\n",
       "      <td>M</td>\n",
       "      <td>299.0</td>\n",
       "      <td>308.7</td>\n",
       "      <td>1500</td>\n",
       "      <td>40.2</td>\n",
       "      <td>30</td>\n",
       "      <td>0</td>\n",
       "      <td>0</td>\n",
       "      <td>0</td>\n",
       "      <td>0</td>\n",
       "      <td>0</td>\n",
       "      <td>0</td>\n",
       "    </tr>\n",
       "  </tbody>\n",
       "</table>\n",
       "</div>"
      ],
      "text/plain": [
       "        UDI Product ID Type  Air temperature [K]  Process temperature [K]  \\\n",
       "9995   9996     M24855    M                298.8                    308.4   \n",
       "9996   9997     H39410    H                298.9                    308.4   \n",
       "9997   9998     M24857    M                299.0                    308.6   \n",
       "9998   9999     H39412    H                299.0                    308.7   \n",
       "9999  10000     M24859    M                299.0                    308.7   \n",
       "\n",
       "      Rotational speed [rpm]  Torque [Nm]  Tool wear [min]  Machine failure  \\\n",
       "9995                    1604         29.5               14                0   \n",
       "9996                    1632         31.8               17                0   \n",
       "9997                    1645         33.4               22                0   \n",
       "9998                    1408         48.5               25                0   \n",
       "9999                    1500         40.2               30                0   \n",
       "\n",
       "      TWF  HDF  PWF  OSF  RNF  \n",
       "9995    0    0    0    0    0  \n",
       "9996    0    0    0    0    0  \n",
       "9997    0    0    0    0    0  \n",
       "9998    0    0    0    0    0  \n",
       "9999    0    0    0    0    0  "
      ]
     },
     "execution_count": 4,
     "metadata": {},
     "output_type": "execute_result"
    }
   ],
   "source": [
    "#  to check the last five fields\n",
    "mf.tail()"
   ]
  },
  {
   "cell_type": "code",
   "execution_count": 5,
   "id": "3b10d491",
   "metadata": {},
   "outputs": [
    {
     "data": {
      "text/plain": [
       "(10000, 14)"
      ]
     },
     "execution_count": 5,
     "metadata": {},
     "output_type": "execute_result"
    }
   ],
   "source": [
    "# to check the shape of Dataset\n",
    "mf.shape"
   ]
  },
  {
   "cell_type": "code",
   "execution_count": 6,
   "id": "2203b402",
   "metadata": {},
   "outputs": [
    {
     "data": {
      "text/plain": [
       "Index(['UDI', 'Product ID', 'Type', 'Air temperature [K]',\n",
       "       'Process temperature [K]', 'Rotational speed [rpm]', 'Torque [Nm]',\n",
       "       'Tool wear [min]', 'Machine failure', 'TWF', 'HDF', 'PWF', 'OSF',\n",
       "       'RNF'],\n",
       "      dtype='object')"
      ]
     },
     "execution_count": 6,
     "metadata": {},
     "output_type": "execute_result"
    }
   ],
   "source": [
    "# to check all the Attributes\n",
    "mf.columns"
   ]
  },
  {
   "cell_type": "code",
   "execution_count": 7,
   "id": "f2dccaf6",
   "metadata": {},
   "outputs": [
    {
     "data": {
      "text/plain": [
       "UDI                        10000\n",
       "Product ID                 10000\n",
       "Type                           3\n",
       "Air temperature [K]           93\n",
       "Process temperature [K]       82\n",
       "Rotational speed [rpm]       941\n",
       "Torque [Nm]                  577\n",
       "Tool wear [min]              246\n",
       "Machine failure                2\n",
       "TWF                            2\n",
       "HDF                            2\n",
       "PWF                            2\n",
       "OSF                            2\n",
       "RNF                            2\n",
       "dtype: int64"
      ]
     },
     "execution_count": 7,
     "metadata": {},
     "output_type": "execute_result"
    }
   ],
   "source": [
    "# count unique values of each features\n",
    "mf.nunique()"
   ]
  },
  {
   "cell_type": "code",
   "execution_count": 8,
   "id": "70b79126",
   "metadata": {},
   "outputs": [
    {
     "data": {
      "text/plain": [
       "Series([], dtype: int64)"
      ]
     },
     "execution_count": 8,
     "metadata": {},
     "output_type": "execute_result"
    }
   ],
   "source": [
    "# check the missing values in all columns\n",
    "mf.isnull().sum()[mf.isnull().sum()>0]"
   ]
  },
  {
   "cell_type": "code",
   "execution_count": 9,
   "id": "bc1edfed",
   "metadata": {},
   "outputs": [],
   "source": [
    "# encode  the non_numerical column to numerical.\n",
    "mf.Type.replace({'L':0,'M':1,'H':2},inplace=True)"
   ]
  },
  {
   "cell_type": "code",
   "execution_count": 10,
   "id": "c8de3e0e",
   "metadata": {},
   "outputs": [
    {
     "data": {
      "text/html": [
       "<div>\n",
       "<style scoped>\n",
       "    .dataframe tbody tr th:only-of-type {\n",
       "        vertical-align: middle;\n",
       "    }\n",
       "\n",
       "    .dataframe tbody tr th {\n",
       "        vertical-align: top;\n",
       "    }\n",
       "\n",
       "    .dataframe thead th {\n",
       "        text-align: right;\n",
       "    }\n",
       "</style>\n",
       "<table border=\"1\" class=\"dataframe\">\n",
       "  <thead>\n",
       "    <tr style=\"text-align: right;\">\n",
       "      <th></th>\n",
       "      <th>count</th>\n",
       "      <th>mean</th>\n",
       "      <th>std</th>\n",
       "      <th>min</th>\n",
       "      <th>25%</th>\n",
       "      <th>50%</th>\n",
       "      <th>75%</th>\n",
       "      <th>max</th>\n",
       "    </tr>\n",
       "  </thead>\n",
       "  <tbody>\n",
       "    <tr>\n",
       "      <th>UDI</th>\n",
       "      <td>10000.0</td>\n",
       "      <td>5000.50000</td>\n",
       "      <td>2886.895680</td>\n",
       "      <td>1.0</td>\n",
       "      <td>2500.75</td>\n",
       "      <td>5000.5</td>\n",
       "      <td>7500.25</td>\n",
       "      <td>10000.0</td>\n",
       "    </tr>\n",
       "    <tr>\n",
       "      <th>Type</th>\n",
       "      <td>10000.0</td>\n",
       "      <td>0.50030</td>\n",
       "      <td>0.671301</td>\n",
       "      <td>0.0</td>\n",
       "      <td>0.00</td>\n",
       "      <td>0.0</td>\n",
       "      <td>1.00</td>\n",
       "      <td>2.0</td>\n",
       "    </tr>\n",
       "    <tr>\n",
       "      <th>Air temperature [K]</th>\n",
       "      <td>10000.0</td>\n",
       "      <td>300.00493</td>\n",
       "      <td>2.000259</td>\n",
       "      <td>295.3</td>\n",
       "      <td>298.30</td>\n",
       "      <td>300.1</td>\n",
       "      <td>301.50</td>\n",
       "      <td>304.5</td>\n",
       "    </tr>\n",
       "    <tr>\n",
       "      <th>Process temperature [K]</th>\n",
       "      <td>10000.0</td>\n",
       "      <td>310.00556</td>\n",
       "      <td>1.483734</td>\n",
       "      <td>305.7</td>\n",
       "      <td>308.80</td>\n",
       "      <td>310.1</td>\n",
       "      <td>311.10</td>\n",
       "      <td>313.8</td>\n",
       "    </tr>\n",
       "    <tr>\n",
       "      <th>Rotational speed [rpm]</th>\n",
       "      <td>10000.0</td>\n",
       "      <td>1538.77610</td>\n",
       "      <td>179.284096</td>\n",
       "      <td>1168.0</td>\n",
       "      <td>1423.00</td>\n",
       "      <td>1503.0</td>\n",
       "      <td>1612.00</td>\n",
       "      <td>2886.0</td>\n",
       "    </tr>\n",
       "    <tr>\n",
       "      <th>Torque [Nm]</th>\n",
       "      <td>10000.0</td>\n",
       "      <td>39.98691</td>\n",
       "      <td>9.968934</td>\n",
       "      <td>3.8</td>\n",
       "      <td>33.20</td>\n",
       "      <td>40.1</td>\n",
       "      <td>46.80</td>\n",
       "      <td>76.6</td>\n",
       "    </tr>\n",
       "    <tr>\n",
       "      <th>Tool wear [min]</th>\n",
       "      <td>10000.0</td>\n",
       "      <td>107.95100</td>\n",
       "      <td>63.654147</td>\n",
       "      <td>0.0</td>\n",
       "      <td>53.00</td>\n",
       "      <td>108.0</td>\n",
       "      <td>162.00</td>\n",
       "      <td>253.0</td>\n",
       "    </tr>\n",
       "    <tr>\n",
       "      <th>Machine failure</th>\n",
       "      <td>10000.0</td>\n",
       "      <td>0.03390</td>\n",
       "      <td>0.180981</td>\n",
       "      <td>0.0</td>\n",
       "      <td>0.00</td>\n",
       "      <td>0.0</td>\n",
       "      <td>0.00</td>\n",
       "      <td>1.0</td>\n",
       "    </tr>\n",
       "    <tr>\n",
       "      <th>TWF</th>\n",
       "      <td>10000.0</td>\n",
       "      <td>0.00460</td>\n",
       "      <td>0.067671</td>\n",
       "      <td>0.0</td>\n",
       "      <td>0.00</td>\n",
       "      <td>0.0</td>\n",
       "      <td>0.00</td>\n",
       "      <td>1.0</td>\n",
       "    </tr>\n",
       "    <tr>\n",
       "      <th>HDF</th>\n",
       "      <td>10000.0</td>\n",
       "      <td>0.01150</td>\n",
       "      <td>0.106625</td>\n",
       "      <td>0.0</td>\n",
       "      <td>0.00</td>\n",
       "      <td>0.0</td>\n",
       "      <td>0.00</td>\n",
       "      <td>1.0</td>\n",
       "    </tr>\n",
       "    <tr>\n",
       "      <th>PWF</th>\n",
       "      <td>10000.0</td>\n",
       "      <td>0.00950</td>\n",
       "      <td>0.097009</td>\n",
       "      <td>0.0</td>\n",
       "      <td>0.00</td>\n",
       "      <td>0.0</td>\n",
       "      <td>0.00</td>\n",
       "      <td>1.0</td>\n",
       "    </tr>\n",
       "    <tr>\n",
       "      <th>OSF</th>\n",
       "      <td>10000.0</td>\n",
       "      <td>0.00980</td>\n",
       "      <td>0.098514</td>\n",
       "      <td>0.0</td>\n",
       "      <td>0.00</td>\n",
       "      <td>0.0</td>\n",
       "      <td>0.00</td>\n",
       "      <td>1.0</td>\n",
       "    </tr>\n",
       "    <tr>\n",
       "      <th>RNF</th>\n",
       "      <td>10000.0</td>\n",
       "      <td>0.00190</td>\n",
       "      <td>0.043550</td>\n",
       "      <td>0.0</td>\n",
       "      <td>0.00</td>\n",
       "      <td>0.0</td>\n",
       "      <td>0.00</td>\n",
       "      <td>1.0</td>\n",
       "    </tr>\n",
       "  </tbody>\n",
       "</table>\n",
       "</div>"
      ],
      "text/plain": [
       "                           count        mean          std     min      25%  \\\n",
       "UDI                      10000.0  5000.50000  2886.895680     1.0  2500.75   \n",
       "Type                     10000.0     0.50030     0.671301     0.0     0.00   \n",
       "Air temperature [K]      10000.0   300.00493     2.000259   295.3   298.30   \n",
       "Process temperature [K]  10000.0   310.00556     1.483734   305.7   308.80   \n",
       "Rotational speed [rpm]   10000.0  1538.77610   179.284096  1168.0  1423.00   \n",
       "Torque [Nm]              10000.0    39.98691     9.968934     3.8    33.20   \n",
       "Tool wear [min]          10000.0   107.95100    63.654147     0.0    53.00   \n",
       "Machine failure          10000.0     0.03390     0.180981     0.0     0.00   \n",
       "TWF                      10000.0     0.00460     0.067671     0.0     0.00   \n",
       "HDF                      10000.0     0.01150     0.106625     0.0     0.00   \n",
       "PWF                      10000.0     0.00950     0.097009     0.0     0.00   \n",
       "OSF                      10000.0     0.00980     0.098514     0.0     0.00   \n",
       "RNF                      10000.0     0.00190     0.043550     0.0     0.00   \n",
       "\n",
       "                            50%      75%      max  \n",
       "UDI                      5000.5  7500.25  10000.0  \n",
       "Type                        0.0     1.00      2.0  \n",
       "Air temperature [K]       300.1   301.50    304.5  \n",
       "Process temperature [K]   310.1   311.10    313.8  \n",
       "Rotational speed [rpm]   1503.0  1612.00   2886.0  \n",
       "Torque [Nm]                40.1    46.80     76.6  \n",
       "Tool wear [min]           108.0   162.00    253.0  \n",
       "Machine failure             0.0     0.00      1.0  \n",
       "TWF                         0.0     0.00      1.0  \n",
       "HDF                         0.0     0.00      1.0  \n",
       "PWF                         0.0     0.00      1.0  \n",
       "OSF                         0.0     0.00      1.0  \n",
       "RNF                         0.0     0.00      1.0  "
      ]
     },
     "execution_count": 10,
     "metadata": {},
     "output_type": "execute_result"
    }
   ],
   "source": [
    "# statistical distribution for numerical attributes\n",
    "mf.describe().T"
   ]
  },
  {
   "cell_type": "markdown",
   "id": "e93702d0",
   "metadata": {},
   "source": [
    "# Hitmap : \n",
    "is defined as a graphical representation of data using colors to visualize the value of the matrix. In this, to represent more common values or higher activities brighter colors basically reddish colors are used and to represent less common or activity values, darker colors are preferred. Heatmap is also defined by the name of the shading matrix. Heatmaps in Seaborn can be plotted by using the seaborn.heatmap() function."
   ]
  },
  {
   "cell_type": "code",
   "execution_count": 11,
   "id": "930e6394",
   "metadata": {},
   "outputs": [
    {
     "data": {
      "image/png": "[encoded data removed]",
      "text/plain": [
       "<Figure size 1600x900 with 2 Axes>"
      ]
     },
     "metadata": {},
     "output_type": "display_data"
    }
   ],
   "source": [
    "plt.figure(figsize=(16,9))                                      # heatmap size in ratio 16:9\n",
    "sns.heatmap(mf.corr(), annot=True,cmap='coolwarm')               # show heatmap\n",
    "plt.title(\"HEATMAP using correlation matrix of mf \",fontsize = 25)\n",
    "plt.show()"
   ]
  },
  {
   "cell_type": "code",
   "execution_count": 12,
   "id": "71b3c935",
   "metadata": {},
   "outputs": [],
   "source": [
    "# drop the columns which is unique id column\n",
    "# drop the column which does not give any important information to us.\n",
    "\n",
    "mf = mf.drop(['UDI','Product ID','TWF','HDF','PWF','OSF','RNF'],axis=1)"
   ]
  },
  {
   "cell_type": "markdown",
   "id": "5e0b1568",
   "metadata": {},
   "source": [
    "# Outliers Detection\n",
    "Lower range limit = Q1 – (1.5* IQR). Essentially this is 1.5 times the inner quartile range subtracting from your 1st quartile. Higher range limit = Q3 + (1.5*IQR)"
   ]
  },
  {
   "cell_type": "code",
   "execution_count": 13,
   "id": "77747f52",
   "metadata": {},
   "outputs": [
    {
     "data": {
      "image/png": "[encoded data removed]",
      "text/plain": [
       "<Figure size 2000x3000 with 7 Axes>"
      ]
     },
     "metadata": {},
     "output_type": "display_data"
    }
   ],
   "source": [
    "plt.figure(figsize=(20,30))  # width & Height\n",
    "\n",
    "for i, variable in enumerate(mf):\n",
    "                     plt.subplot(10,4,i+1) # 10-rows ,4-col, i+1-current iteration index\n",
    "                     plt.boxplot(mf[variable],whis=1.5) #The whis parameter sets the whisker length to 1.5 times the interquartile range (IQR) for outlier detection.\n",
    "                     plt.tight_layout()    # is used to improve the spacing between subplots\n",
    "                     plt.title(variable)   #  sets the title of each subplot to the name of the variable.\n",
    "                    \n",
    "plt.show()   #is called to display the figure with all the subplots."
   ]
  },
  {
   "cell_type": "markdown",
   "id": "30d00153",
   "metadata": {},
   "source": [
    "# Rotational speed [rpm]"
   ]
  },
  {
   "cell_type": "code",
   "execution_count": 14,
   "id": "833f6e1d",
   "metadata": {},
   "outputs": [
    {
     "data": {
      "image/png": "[encoded data removed]",
      "text/plain": [
       "<Figure size 1500x500 with 1 Axes>"
      ]
     },
     "metadata": {},
     "output_type": "display_data"
    }
   ],
   "source": [
    "plt.figure(figsize = (15,5))\n",
    "sns.boxplot(x = 'Rotational speed [rpm]', data = mf, palette = 'Set2')# This sets the color palette for the boxplot. The 'Set2' palette is one of the predefined palettes in Seaborn.\n",
    "plt.title('Boxplot of rpm')\n",
    "plt.show()"
   ]
  },
  {
   "cell_type": "code",
   "execution_count": 15,
   "id": "86ecf05d",
   "metadata": {},
   "outputs": [
    {
     "data": {
      "text/html": [
       "<div>\n",
       "<style scoped>\n",
       "    .dataframe tbody tr th:only-of-type {\n",
       "        vertical-align: middle;\n",
       "    }\n",
       "\n",
       "    .dataframe tbody tr th {\n",
       "        vertical-align: top;\n",
       "    }\n",
       "\n",
       "    .dataframe thead th {\n",
       "        text-align: right;\n",
       "    }\n",
       "</style>\n",
       "<table border=\"1\" class=\"dataframe\">\n",
       "  <thead>\n",
       "    <tr style=\"text-align: right;\">\n",
       "      <th></th>\n",
       "      <th>Type</th>\n",
       "      <th>Air temperature [K]</th>\n",
       "      <th>Process temperature [K]</th>\n",
       "      <th>Rotational speed [rpm]</th>\n",
       "      <th>Torque [Nm]</th>\n",
       "      <th>Tool wear [min]</th>\n",
       "      <th>Machine failure</th>\n",
       "    </tr>\n",
       "  </thead>\n",
       "  <tbody>\n",
       "    <tr>\n",
       "      <th>9037</th>\n",
       "      <td>0</td>\n",
       "      <td>297.3</td>\n",
       "      <td>308.2</td>\n",
       "      <td>1896</td>\n",
       "      <td>24.4</td>\n",
       "      <td>47</td>\n",
       "      <td>0</td>\n",
       "    </tr>\n",
       "    <tr>\n",
       "      <th>9169</th>\n",
       "      <td>0</td>\n",
       "      <td>297.7</td>\n",
       "      <td>308.8</td>\n",
       "      <td>1896</td>\n",
       "      <td>24.5</td>\n",
       "      <td>186</td>\n",
       "      <td>0</td>\n",
       "    </tr>\n",
       "    <tr>\n",
       "      <th>5254</th>\n",
       "      <td>0</td>\n",
       "      <td>303.5</td>\n",
       "      <td>313.1</td>\n",
       "      <td>1897</td>\n",
       "      <td>23.6</td>\n",
       "      <td>75</td>\n",
       "      <td>0</td>\n",
       "    </tr>\n",
       "    <tr>\n",
       "      <th>9926</th>\n",
       "      <td>1</td>\n",
       "      <td>298.5</td>\n",
       "      <td>308.6</td>\n",
       "      <td>1897</td>\n",
       "      <td>20.2</td>\n",
       "      <td>50</td>\n",
       "      <td>0</td>\n",
       "    </tr>\n",
       "    <tr>\n",
       "      <th>856</th>\n",
       "      <td>0</td>\n",
       "      <td>296.1</td>\n",
       "      <td>307.1</td>\n",
       "      <td>1898</td>\n",
       "      <td>22.7</td>\n",
       "      <td>20</td>\n",
       "      <td>0</td>\n",
       "    </tr>\n",
       "    <tr>\n",
       "      <th>...</th>\n",
       "      <td>...</td>\n",
       "      <td>...</td>\n",
       "      <td>...</td>\n",
       "      <td>...</td>\n",
       "      <td>...</td>\n",
       "      <td>...</td>\n",
       "      <td>...</td>\n",
       "    </tr>\n",
       "    <tr>\n",
       "      <th>4296</th>\n",
       "      <td>0</td>\n",
       "      <td>301.8</td>\n",
       "      <td>310.2</td>\n",
       "      <td>2825</td>\n",
       "      <td>5.8</td>\n",
       "      <td>215</td>\n",
       "      <td>1</td>\n",
       "    </tr>\n",
       "    <tr>\n",
       "      <th>847</th>\n",
       "      <td>0</td>\n",
       "      <td>296.4</td>\n",
       "      <td>307.4</td>\n",
       "      <td>2833</td>\n",
       "      <td>5.6</td>\n",
       "      <td>213</td>\n",
       "      <td>1</td>\n",
       "    </tr>\n",
       "    <tr>\n",
       "      <th>50</th>\n",
       "      <td>0</td>\n",
       "      <td>298.9</td>\n",
       "      <td>309.1</td>\n",
       "      <td>2861</td>\n",
       "      <td>4.6</td>\n",
       "      <td>143</td>\n",
       "      <td>1</td>\n",
       "    </tr>\n",
       "    <tr>\n",
       "      <th>463</th>\n",
       "      <td>0</td>\n",
       "      <td>297.4</td>\n",
       "      <td>308.7</td>\n",
       "      <td>2874</td>\n",
       "      <td>4.2</td>\n",
       "      <td>118</td>\n",
       "      <td>1</td>\n",
       "    </tr>\n",
       "    <tr>\n",
       "      <th>1784</th>\n",
       "      <td>0</td>\n",
       "      <td>298.3</td>\n",
       "      <td>308.0</td>\n",
       "      <td>2886</td>\n",
       "      <td>3.8</td>\n",
       "      <td>57</td>\n",
       "      <td>1</td>\n",
       "    </tr>\n",
       "  </tbody>\n",
       "</table>\n",
       "<p>418 rows × 7 columns</p>\n",
       "</div>"
      ],
      "text/plain": [
       "      Type  Air temperature [K]  Process temperature [K]  \\\n",
       "9037     0                297.3                    308.2   \n",
       "9169     0                297.7                    308.8   \n",
       "5254     0                303.5                    313.1   \n",
       "9926     1                298.5                    308.6   \n",
       "856      0                296.1                    307.1   \n",
       "...    ...                  ...                      ...   \n",
       "4296     0                301.8                    310.2   \n",
       "847      0                296.4                    307.4   \n",
       "50       0                298.9                    309.1   \n",
       "463      0                297.4                    308.7   \n",
       "1784     0                298.3                    308.0   \n",
       "\n",
       "      Rotational speed [rpm]  Torque [Nm]  Tool wear [min]  Machine failure  \n",
       "9037                    1896         24.4               47                0  \n",
       "9169                    1896         24.5              186                0  \n",
       "5254                    1897         23.6               75                0  \n",
       "9926                    1897         20.2               50                0  \n",
       "856                     1898         22.7               20                0  \n",
       "...                      ...          ...              ...              ...  \n",
       "4296                    2825          5.8              215                1  \n",
       "847                     2833          5.6              213                1  \n",
       "50                      2861          4.6              143                1  \n",
       "463                     2874          4.2              118                1  \n",
       "1784                    2886          3.8               57                1  \n",
       "\n",
       "[418 rows x 7 columns]"
      ]
     },
     "execution_count": 15,
     "metadata": {},
     "output_type": "execute_result"
    }
   ],
   "source": [
    "Q1_rpm = mf.describe()['Rotational speed [rpm]']['25%']\n",
    "# calculates the first quartile (25th percentile) of the 'Rotational speed [rpm]' column using the describe() function and indexing the '25%' row.\n",
    "Q3_rpm = mf.describe()['Rotational speed [rpm]']['75%']\n",
    "IQR_rpm = Q3_rpm - Q1_rpm\n",
    "UpFence_rpm = Q3_rpm + (1.5 * IQR_rpm)\n",
    "# calculates the upper fence for outlier detection by adding 1.5 times the IQR to the third quartile.\n",
    "LoFence_rpm = Q1_rpm - (1.5 * IQR_rpm)\n",
    "\n",
    "out_rpm = (mf['Rotational speed [rpm]'] < LoFence_rpm) | (mf['Rotational speed [rpm]'] > UpFence_rpm)\n",
    "# creates a boolean mask that checks if each value in the 'Rotational speed [rpm]' column is either less than the lower fence or greater than the upper fence.\n",
    "mf[out_rpm].sort_values(by = 'Rotational speed [rpm]') # sorting assending order"
   ]
  },
  {
   "cell_type": "code",
   "execution_count": 16,
   "id": "50dca590",
   "metadata": {},
   "outputs": [
    {
     "name": "stdout",
     "output_type": "stream",
     "text": [
      "Outliers of 'Rotational speed [rpm]' column is above 1895.5 .\n",
      "Total data which counted as an outliers is 418 of 10000 rows.\n",
      "It's 4.18% from the entire rows.\n"
     ]
    }
   ],
   "source": [
    "print(f\"Outliers of 'Rotational speed [rpm]' column is above {UpFence_rpm} .\")\n",
    "print(f\"Total data which counted as an outliers is {len(mf[out_rpm].sort_values(by = 'Rotational speed [rpm]'))} of {len(mf)} rows.\")\n",
    "print(f\"It's{(len(mf[out_rpm]) ) / len(mf) * 100 : .2f}% from the entire rows.\")"
   ]
  },
  {
   "cell_type": "markdown",
   "id": "90907562",
   "metadata": {},
   "source": [
    "# Torque [Nm]"
   ]
  },
  {
   "cell_type": "code",
   "execution_count": 17,
   "id": "0e26c24f",
   "metadata": {},
   "outputs": [
    {
     "data": {
      "image/png": "[encoded data removed]",
      "text/plain": [
       "<Figure size 1500x500 with 1 Axes>"
      ]
     },
     "metadata": {},
     "output_type": "display_data"
    }
   ],
   "source": [
    "plt.figure(figsize = (15,5))\n",
    "sns.boxplot(x = 'Torque [Nm]', data = mf, palette = 'Set2')# This sets the color palette for the boxplot. The 'Set2' palette is one of the predefined palettes in Seaborn.\n",
    "plt.title('Boxplot of Torque')\n",
    "plt.show()"
   ]
  },
  {
   "cell_type": "code",
   "execution_count": 18,
   "id": "a78332ad",
   "metadata": {},
   "outputs": [
    {
     "data": {
      "text/html": [
       "<div>\n",
       "<style scoped>\n",
       "    .dataframe tbody tr th:only-of-type {\n",
       "        vertical-align: middle;\n",
       "    }\n",
       "\n",
       "    .dataframe tbody tr th {\n",
       "        vertical-align: top;\n",
       "    }\n",
       "\n",
       "    .dataframe thead th {\n",
       "        text-align: right;\n",
       "    }\n",
       "</style>\n",
       "<table border=\"1\" class=\"dataframe\">\n",
       "  <thead>\n",
       "    <tr style=\"text-align: right;\">\n",
       "      <th></th>\n",
       "      <th>Type</th>\n",
       "      <th>Air temperature [K]</th>\n",
       "      <th>Process temperature [K]</th>\n",
       "      <th>Rotational speed [rpm]</th>\n",
       "      <th>Torque [Nm]</th>\n",
       "      <th>Tool wear [min]</th>\n",
       "      <th>Machine failure</th>\n",
       "    </tr>\n",
       "  </thead>\n",
       "  <tbody>\n",
       "    <tr>\n",
       "      <th>1784</th>\n",
       "      <td>0</td>\n",
       "      <td>298.3</td>\n",
       "      <td>308.0</td>\n",
       "      <td>2886</td>\n",
       "      <td>3.8</td>\n",
       "      <td>57</td>\n",
       "      <td>1</td>\n",
       "    </tr>\n",
       "    <tr>\n",
       "      <th>463</th>\n",
       "      <td>0</td>\n",
       "      <td>297.4</td>\n",
       "      <td>308.7</td>\n",
       "      <td>2874</td>\n",
       "      <td>4.2</td>\n",
       "      <td>118</td>\n",
       "      <td>1</td>\n",
       "    </tr>\n",
       "    <tr>\n",
       "      <th>50</th>\n",
       "      <td>0</td>\n",
       "      <td>298.9</td>\n",
       "      <td>309.1</td>\n",
       "      <td>2861</td>\n",
       "      <td>4.6</td>\n",
       "      <td>143</td>\n",
       "      <td>1</td>\n",
       "    </tr>\n",
       "    <tr>\n",
       "      <th>847</th>\n",
       "      <td>0</td>\n",
       "      <td>296.4</td>\n",
       "      <td>307.4</td>\n",
       "      <td>2833</td>\n",
       "      <td>5.6</td>\n",
       "      <td>213</td>\n",
       "      <td>1</td>\n",
       "    </tr>\n",
       "    <tr>\n",
       "      <th>4296</th>\n",
       "      <td>0</td>\n",
       "      <td>301.8</td>\n",
       "      <td>310.2</td>\n",
       "      <td>2825</td>\n",
       "      <td>5.8</td>\n",
       "      <td>215</td>\n",
       "      <td>1</td>\n",
       "    </tr>\n",
       "    <tr>\n",
       "      <th>...</th>\n",
       "      <td>...</td>\n",
       "      <td>...</td>\n",
       "      <td>...</td>\n",
       "      <td>...</td>\n",
       "      <td>...</td>\n",
       "      <td>...</td>\n",
       "      <td>...</td>\n",
       "    </tr>\n",
       "    <tr>\n",
       "      <th>6525</th>\n",
       "      <td>0</td>\n",
       "      <td>301.1</td>\n",
       "      <td>310.4</td>\n",
       "      <td>1312</td>\n",
       "      <td>73.6</td>\n",
       "      <td>49</td>\n",
       "      <td>1</td>\n",
       "    </tr>\n",
       "    <tr>\n",
       "      <th>1324</th>\n",
       "      <td>1</td>\n",
       "      <td>298.8</td>\n",
       "      <td>310.1</td>\n",
       "      <td>1243</td>\n",
       "      <td>74.5</td>\n",
       "      <td>194</td>\n",
       "      <td>1</td>\n",
       "    </tr>\n",
       "    <tr>\n",
       "      <th>9084</th>\n",
       "      <td>0</td>\n",
       "      <td>297.2</td>\n",
       "      <td>307.9</td>\n",
       "      <td>1326</td>\n",
       "      <td>75.4</td>\n",
       "      <td>172</td>\n",
       "      <td>1</td>\n",
       "    </tr>\n",
       "    <tr>\n",
       "      <th>880</th>\n",
       "      <td>1</td>\n",
       "      <td>295.8</td>\n",
       "      <td>306.3</td>\n",
       "      <td>1235</td>\n",
       "      <td>76.2</td>\n",
       "      <td>89</td>\n",
       "      <td>1</td>\n",
       "    </tr>\n",
       "    <tr>\n",
       "      <th>7763</th>\n",
       "      <td>0</td>\n",
       "      <td>300.4</td>\n",
       "      <td>311.6</td>\n",
       "      <td>1200</td>\n",
       "      <td>76.6</td>\n",
       "      <td>3</td>\n",
       "      <td>1</td>\n",
       "    </tr>\n",
       "  </tbody>\n",
       "</table>\n",
       "<p>69 rows × 7 columns</p>\n",
       "</div>"
      ],
      "text/plain": [
       "      Type  Air temperature [K]  Process temperature [K]  \\\n",
       "1784     0                298.3                    308.0   \n",
       "463      0                297.4                    308.7   \n",
       "50       0                298.9                    309.1   \n",
       "847      0                296.4                    307.4   \n",
       "4296     0                301.8                    310.2   \n",
       "...    ...                  ...                      ...   \n",
       "6525     0                301.1                    310.4   \n",
       "1324     1                298.8                    310.1   \n",
       "9084     0                297.2                    307.9   \n",
       "880      1                295.8                    306.3   \n",
       "7763     0                300.4                    311.6   \n",
       "\n",
       "      Rotational speed [rpm]  Torque [Nm]  Tool wear [min]  Machine failure  \n",
       "1784                    2886          3.8               57                1  \n",
       "463                     2874          4.2              118                1  \n",
       "50                      2861          4.6              143                1  \n",
       "847                     2833          5.6              213                1  \n",
       "4296                    2825          5.8              215                1  \n",
       "...                      ...          ...              ...              ...  \n",
       "6525                    1312         73.6               49                1  \n",
       "1324                    1243         74.5              194                1  \n",
       "9084                    1326         75.4              172                1  \n",
       "880                     1235         76.2               89                1  \n",
       "7763                    1200         76.6                3                1  \n",
       "\n",
       "[69 rows x 7 columns]"
      ]
     },
     "execution_count": 18,
     "metadata": {},
     "output_type": "execute_result"
    }
   ],
   "source": [
    "Q1_nm = mf.describe()['Torque [Nm]']['25%']\n",
    "Q3_nm = mf.describe()['Torque [Nm]']['75%']\n",
    "IQR_nm = Q3_nm - Q1_nm\n",
    "UpFence_nm = Q3_nm + (1.5 * IQR_nm)\n",
    "LoFence_nm = Q1_nm - (1.5 * IQR_nm)\n",
    "\n",
    "out_nm = (mf['Torque [Nm]'] < LoFence_nm) | (mf['Torque [Nm]'] > UpFence_nm)\n",
    "mf[out_nm].sort_values(by = 'Torque [Nm]')"
   ]
  },
  {
   "cell_type": "code",
   "execution_count": 19,
   "id": "46a5497e",
   "metadata": {},
   "outputs": [
    {
     "name": "stdout",
     "output_type": "stream",
     "text": [
      "Outliers of 'Torque [Nm]' column is above 67.19999999999999 .\n",
      "Outliers of 'Torque [Nm]' column is below 12.800000000000011 .\n",
      "Total data which counted as an outliers is 69 of 10000 rows.\n",
      "It's 0.69% from the entire rows.\n"
     ]
    }
   ],
   "source": [
    "print(f\"Outliers of 'Torque [Nm]' column is above {UpFence_nm} .\")\n",
    "print(f\"Outliers of 'Torque [Nm]' column is below {LoFence_nm} .\")\n",
    "print(f\"Total data which counted as an outliers is {len(mf[out_nm].sort_values(by = 'Torque [Nm]'))} of {len(mf)} rows.\")\n",
    "print(f\"It's{(len(mf[out_nm]) ) / len(mf) * 100 : .2f}% from the entire rows.\")"
   ]
  },
  {
   "cell_type": "markdown",
   "id": "6324c5df",
   "metadata": {},
   "source": [
    "# Target Column Data Distribution"
   ]
  },
  {
   "cell_type": "code",
   "execution_count": 20,
   "id": "68d111dc",
   "metadata": {},
   "outputs": [
    {
     "data": {
      "image/png": "[encoded data removed]",
      "text/plain": [
       "<Figure size 600x600 with 1 Axes>"
      ]
     },
     "metadata": {},
     "output_type": "display_data"
    }
   ],
   "source": [
    "plt.figure(figsize=(6,6))\n",
    "plt.hist(mf['Machine failure'] );"
   ]
  },
  {
   "cell_type": "markdown",
   "id": "1edcb90d",
   "metadata": {},
   "source": [
    "# Distribution of Features of Data"
   ]
  },
  {
   "cell_type": "code",
   "execution_count": 21,
   "id": "c8955bfb",
   "metadata": {},
   "outputs": [
    {
     "data": {
      "image/png": "[encoded data removed]",
      "text/plain": [
       "<Figure size 2000x3000 with 7 Axes>"
      ]
     },
     "metadata": {},
     "output_type": "display_data"
    }
   ],
   "source": [
    "plt.figure(figsize=(20,30))\n",
    "\n",
    "for i, variable in enumerate(mf):\n",
    "                     plt.subplot(10,4,i+1)\n",
    "                     plt.hist(mf[variable])\n",
    "                     plt.tight_layout()\n",
    "                     plt.title(variable)"
   ]
  },
  {
   "cell_type": "code",
   "execution_count": null,
   "id": "3bbfcdd4",
   "metadata": {},
   "outputs": [],
   "source": []
  },
  {
   "cell_type": "code",
   "execution_count": 22,
   "id": "0779ee51",
   "metadata": {},
   "outputs": [
    {
     "data": {
      "text/html": [
       "<div>\n",
       "<style scoped>\n",
       "    .dataframe tbody tr th:only-of-type {\n",
       "        vertical-align: middle;\n",
       "    }\n",
       "\n",
       "    .dataframe tbody tr th {\n",
       "        vertical-align: top;\n",
       "    }\n",
       "\n",
       "    .dataframe thead th {\n",
       "        text-align: right;\n",
       "    }\n",
       "</style>\n",
       "<table border=\"1\" class=\"dataframe\">\n",
       "  <thead>\n",
       "    <tr style=\"text-align: right;\">\n",
       "      <th></th>\n",
       "      <th>Type</th>\n",
       "      <th>Air temperature [K]</th>\n",
       "      <th>Process temperature [K]</th>\n",
       "      <th>Rotational speed [rpm]</th>\n",
       "      <th>Torque [Nm]</th>\n",
       "      <th>Tool wear [min]</th>\n",
       "      <th>Machine failure</th>\n",
       "    </tr>\n",
       "  </thead>\n",
       "  <tbody>\n",
       "    <tr>\n",
       "      <th>0</th>\n",
       "      <td>1</td>\n",
       "      <td>298.1</td>\n",
       "      <td>308.6</td>\n",
       "      <td>1551</td>\n",
       "      <td>42.8</td>\n",
       "      <td>0</td>\n",
       "      <td>0</td>\n",
       "    </tr>\n",
       "    <tr>\n",
       "      <th>1</th>\n",
       "      <td>0</td>\n",
       "      <td>298.2</td>\n",
       "      <td>308.7</td>\n",
       "      <td>1408</td>\n",
       "      <td>46.3</td>\n",
       "      <td>3</td>\n",
       "      <td>0</td>\n",
       "    </tr>\n",
       "    <tr>\n",
       "      <th>2</th>\n",
       "      <td>0</td>\n",
       "      <td>298.1</td>\n",
       "      <td>308.5</td>\n",
       "      <td>1498</td>\n",
       "      <td>49.4</td>\n",
       "      <td>5</td>\n",
       "      <td>0</td>\n",
       "    </tr>\n",
       "    <tr>\n",
       "      <th>3</th>\n",
       "      <td>0</td>\n",
       "      <td>298.2</td>\n",
       "      <td>308.6</td>\n",
       "      <td>1433</td>\n",
       "      <td>39.5</td>\n",
       "      <td>7</td>\n",
       "      <td>0</td>\n",
       "    </tr>\n",
       "    <tr>\n",
       "      <th>4</th>\n",
       "      <td>0</td>\n",
       "      <td>298.2</td>\n",
       "      <td>308.7</td>\n",
       "      <td>1408</td>\n",
       "      <td>40.0</td>\n",
       "      <td>9</td>\n",
       "      <td>0</td>\n",
       "    </tr>\n",
       "  </tbody>\n",
       "</table>\n",
       "</div>"
      ],
      "text/plain": [
       "   Type  Air temperature [K]  Process temperature [K]  Rotational speed [rpm]  \\\n",
       "0     1                298.1                    308.6                    1551   \n",
       "1     0                298.2                    308.7                    1408   \n",
       "2     0                298.1                    308.5                    1498   \n",
       "3     0                298.2                    308.6                    1433   \n",
       "4     0                298.2                    308.7                    1408   \n",
       "\n",
       "   Torque [Nm]  Tool wear [min]  Machine failure  \n",
       "0         42.8                0                0  \n",
       "1         46.3                3                0  \n",
       "2         49.4                5                0  \n",
       "3         39.5                7                0  \n",
       "4         40.0                9                0  "
      ]
     },
     "execution_count": 22,
     "metadata": {},
     "output_type": "execute_result"
    }
   ],
   "source": [
    "mf.head(5)"
   ]
  },
  {
   "cell_type": "markdown",
   "id": "4ce8d99b",
   "metadata": {},
   "source": [
    "# Data Sampling"
   ]
  },
  {
   "cell_type": "code",
   "execution_count": 23,
   "id": "51be9df7",
   "metadata": {},
   "outputs": [],
   "source": [
    "from sklearn.model_selection import train_test_split"
   ]
  },
  {
   "cell_type": "code",
   "execution_count": 24,
   "id": "fdc26ed6",
   "metadata": {},
   "outputs": [],
   "source": [
    "# we have done the Data Sampling to part the data into train and test\n",
    "# test size is 0.2 , it means Train data is 80% and Test Data is 20%.\n",
    "mf_train,mf_test = train_test_split(mf , test_size=0.2)"
   ]
  },
  {
   "cell_type": "code",
   "execution_count": 25,
   "id": "464383ab",
   "metadata": {},
   "outputs": [],
   "source": [
    "mf_train_x = mf_train.iloc[: , 0:6]\n",
    "mf_train_y = mf_train.iloc[:,6]\n",
    "\n",
    "mf_test_x = mf_test.iloc[: , 0:6]\n",
    "mf_test_y = mf_test.iloc[:,6]"
   ]
  },
  {
   "cell_type": "code",
   "execution_count": 26,
   "id": "39ec44f1",
   "metadata": {},
   "outputs": [
    {
     "name": "stdout",
     "output_type": "stream",
     "text": [
      "(8000, 6) (8000,)\n"
     ]
    }
   ],
   "source": [
    "print(mf_train_x.shape , mf_train_y.shape)"
   ]
  },
  {
   "cell_type": "code",
   "execution_count": 27,
   "id": "f9962c15",
   "metadata": {},
   "outputs": [
    {
     "name": "stdout",
     "output_type": "stream",
     "text": [
      "(2000, 6) (2000,)\n"
     ]
    }
   ],
   "source": [
    "print(mf_test_x.shape ,mf_test_y.shape)"
   ]
  },
  {
   "cell_type": "markdown",
   "id": "249b4f0d",
   "metadata": {},
   "source": [
    "# Logistic_Regression\n",
    "Target Variable is Binary so, i have used Logistic regression"
   ]
  },
  {
   "cell_type": "code",
   "execution_count": 28,
   "id": "65379249",
   "metadata": {},
   "outputs": [],
   "source": [
    "from sklearn.linear_model import LogisticRegression"
   ]
  },
  {
   "cell_type": "code",
   "execution_count": 29,
   "id": "955875e6",
   "metadata": {},
   "outputs": [
    {
     "data": {
      "text/plain": [
       "LogisticRegression()"
      ]
     },
     "execution_count": 29,
     "metadata": {},
     "output_type": "execute_result"
    }
   ],
   "source": [
    "logreg = LogisticRegression( )\n",
    "logreg.fit(mf_train_x,mf_train_y)"
   ]
  },
  {
   "cell_type": "code",
   "execution_count": 30,
   "id": "35c393ea",
   "metadata": {},
   "outputs": [
    {
     "data": {
      "text/plain": [
       "array([0, 0, 0, ..., 0, 0, 0], dtype=int64)"
      ]
     },
     "execution_count": 30,
     "metadata": {},
     "output_type": "execute_result"
    }
   ],
   "source": [
    "pred_log = logreg.predict(mf_test_x)\n",
    "pred_log"
   ]
  },
  {
   "cell_type": "code",
   "execution_count": 31,
   "id": "37ee1b7c",
   "metadata": {},
   "outputs": [],
   "source": [
    "from sklearn.metrics import confusion_matrix"
   ]
  },
  {
   "cell_type": "code",
   "execution_count": 32,
   "id": "edb26ef7",
   "metadata": {},
   "outputs": [
    {
     "data": {
      "text/plain": [
       "array([[1925,    7],\n",
       "       [  55,   13]], dtype=int64)"
      ]
     },
     "execution_count": 32,
     "metadata": {},
     "output_type": "execute_result"
    }
   ],
   "source": [
    "con_log = confusion_matrix(mf_test_y , pred_log)\n",
    "con_log"
   ]
  },
  {
   "cell_type": "code",
   "execution_count": 33,
   "id": "b0cf47d5",
   "metadata": {},
   "outputs": [],
   "source": [
    "from sklearn.metrics import accuracy_score,precision_score,recall_score,f1_score"
   ]
  },
  {
   "cell_type": "code",
   "execution_count": 34,
   "id": "b9b809f0",
   "metadata": {},
   "outputs": [
    {
     "data": {
      "text/plain": [
       "0.969"
      ]
     },
     "execution_count": 34,
     "metadata": {},
     "output_type": "execute_result"
    }
   ],
   "source": [
    "accuracy_score(mf_test_y , pred_log)"
   ]
  },
  {
   "cell_type": "code",
   "execution_count": 35,
   "id": "97aa098a",
   "metadata": {},
   "outputs": [
    {
     "data": {
      "text/plain": [
       "0.65"
      ]
     },
     "execution_count": 35,
     "metadata": {},
     "output_type": "execute_result"
    }
   ],
   "source": [
    "precision_score(mf_test_y , pred_log)"
   ]
  },
  {
   "cell_type": "code",
   "execution_count": 36,
   "id": "12f68024",
   "metadata": {},
   "outputs": [
    {
     "data": {
      "text/plain": [
       "0.19117647058823528"
      ]
     },
     "execution_count": 36,
     "metadata": {},
     "output_type": "execute_result"
    }
   ],
   "source": [
    "recall_score(mf_test_y , pred_log)"
   ]
  },
  {
   "cell_type": "markdown",
   "id": "be625a20",
   "metadata": {},
   "source": [
    "# Decision_Tree"
   ]
  },
  {
   "cell_type": "code",
   "execution_count": 37,
   "id": "3948bb72",
   "metadata": {},
   "outputs": [],
   "source": [
    "from sklearn.tree import DecisionTreeClassifier\n",
    "dt = DecisionTreeClassifier()"
   ]
  },
  {
   "cell_type": "code",
   "execution_count": 38,
   "id": "74afcce2",
   "metadata": {},
   "outputs": [
    {
     "data": {
      "text/plain": [
       "DecisionTreeClassifier()"
      ]
     },
     "execution_count": 38,
     "metadata": {},
     "output_type": "execute_result"
    }
   ],
   "source": [
    "dt.fit(mf_train_x,mf_train_y)"
   ]
  },
  {
   "cell_type": "code",
   "execution_count": 39,
   "id": "b1bd7adf",
   "metadata": {},
   "outputs": [],
   "source": [
    "pred_dt = dt.predict(mf_test_x)"
   ]
  },
  {
   "cell_type": "code",
   "execution_count": 40,
   "id": "35e54c5e",
   "metadata": {},
   "outputs": [
    {
     "data": {
      "text/plain": [
       "array([[1907,   25],\n",
       "       [  20,   48]], dtype=int64)"
      ]
     },
     "execution_count": 40,
     "metadata": {},
     "output_type": "execute_result"
    }
   ],
   "source": [
    "con_dt = confusion_matrix(mf_test_y , pred_dt)\n",
    "con_dt"
   ]
  },
  {
   "cell_type": "code",
   "execution_count": 41,
   "id": "4c870be2",
   "metadata": {},
   "outputs": [
    {
     "data": {
      "text/plain": [
       "0.9775"
      ]
     },
     "execution_count": 41,
     "metadata": {},
     "output_type": "execute_result"
    }
   ],
   "source": [
    "accuracy_score(mf_test_y , pred_dt)"
   ]
  },
  {
   "cell_type": "code",
   "execution_count": 42,
   "id": "e3dc17ec",
   "metadata": {},
   "outputs": [
    {
     "data": {
      "text/plain": [
       "0.6575342465753424"
      ]
     },
     "execution_count": 42,
     "metadata": {},
     "output_type": "execute_result"
    }
   ],
   "source": [
    "precision_score(mf_test_y , pred_dt)"
   ]
  },
  {
   "cell_type": "code",
   "execution_count": 43,
   "id": "3f8a2ecd",
   "metadata": {},
   "outputs": [
    {
     "data": {
      "text/plain": [
       "0.7058823529411765"
      ]
     },
     "execution_count": 43,
     "metadata": {},
     "output_type": "execute_result"
    }
   ],
   "source": [
    "recall_score(mf_test_y , pred_dt)"
   ]
  },
  {
   "cell_type": "markdown",
   "id": "fce0bef3",
   "metadata": {},
   "source": [
    "# Random_forest"
   ]
  },
  {
   "cell_type": "code",
   "execution_count": 44,
   "id": "5ba35e28",
   "metadata": {},
   "outputs": [],
   "source": [
    "from sklearn.ensemble import RandomForestClassifier\n",
    "rfc = RandomForestClassifier(n_estimators = 1000,max_depth = 15,max_features = 'log2',random_state=48)"
   ]
  },
  {
   "cell_type": "code",
   "execution_count": 45,
   "id": "8d252d98",
   "metadata": {},
   "outputs": [
    {
     "data": {
      "text/plain": [
       "RandomForestClassifier(max_depth=15, max_features='log2', n_estimators=1000,\n",
       "                       random_state=48)"
      ]
     },
     "execution_count": 45,
     "metadata": {},
     "output_type": "execute_result"
    }
   ],
   "source": [
    "rfc.fit(mf_train_x,mf_train_y)"
   ]
  },
  {
   "cell_type": "code",
   "execution_count": 46,
   "id": "c2b10e1d",
   "metadata": {},
   "outputs": [],
   "source": [
    "pred_rfc  = rfc.predict(mf_test_x)"
   ]
  },
  {
   "cell_type": "code",
   "execution_count": 47,
   "id": "8d9f7228",
   "metadata": {},
   "outputs": [
    {
     "data": {
      "text/plain": [
       "array([[1924,    8],\n",
       "       [  23,   45]], dtype=int64)"
      ]
     },
     "execution_count": 47,
     "metadata": {},
     "output_type": "execute_result"
    }
   ],
   "source": [
    "con_rfc = confusion_matrix(mf_test_y , pred_rfc)\n",
    "con_rfc"
   ]
  },
  {
   "cell_type": "code",
   "execution_count": 48,
   "id": "0f92bc85",
   "metadata": {},
   "outputs": [
    {
     "data": {
      "text/plain": [
       "0.9845"
      ]
     },
     "execution_count": 48,
     "metadata": {},
     "output_type": "execute_result"
    }
   ],
   "source": [
    "accuracy_score(mf_test_y , pred_rfc)"
   ]
  },
  {
   "cell_type": "code",
   "execution_count": 49,
   "id": "8e54cc97",
   "metadata": {},
   "outputs": [
    {
     "data": {
      "text/plain": [
       "0.8490566037735849"
      ]
     },
     "execution_count": 49,
     "metadata": {},
     "output_type": "execute_result"
    }
   ],
   "source": [
    "precision_score(mf_test_y , pred_rfc)"
   ]
  },
  {
   "cell_type": "code",
   "execution_count": 50,
   "id": "010f60fd",
   "metadata": {},
   "outputs": [
    {
     "data": {
      "text/plain": [
       "0.6617647058823529"
      ]
     },
     "execution_count": 50,
     "metadata": {},
     "output_type": "execute_result"
    }
   ],
   "source": [
    "recall_score(mf_test_y , pred_rfc)"
   ]
  },
  {
   "cell_type": "markdown",
   "id": "7ab42c08",
   "metadata": {},
   "source": [
    "# naive_bayes"
   ]
  },
  {
   "cell_type": "code",
   "execution_count": 51,
   "id": "d597bb86",
   "metadata": {},
   "outputs": [],
   "source": [
    "from sklearn.naive_bayes import MultinomialNB\n",
    "nb = MultinomialNB()"
   ]
  },
  {
   "cell_type": "code",
   "execution_count": 52,
   "id": "7bdbe071",
   "metadata": {},
   "outputs": [
    {
     "data": {
      "text/plain": [
       "MultinomialNB()"
      ]
     },
     "execution_count": 52,
     "metadata": {},
     "output_type": "execute_result"
    }
   ],
   "source": [
    "nb.fit(mf_train_x,mf_train_y)"
   ]
  },
  {
   "cell_type": "code",
   "execution_count": 53,
   "id": "0a6735e1",
   "metadata": {},
   "outputs": [],
   "source": [
    "pred_nb = nb.predict(mf_test_x)"
   ]
  },
  {
   "cell_type": "code",
   "execution_count": 54,
   "id": "a9b84658",
   "metadata": {},
   "outputs": [
    {
     "data": {
      "text/plain": [
       "array([[1278,  654],\n",
       "       [  21,   47]], dtype=int64)"
      ]
     },
     "execution_count": 54,
     "metadata": {},
     "output_type": "execute_result"
    }
   ],
   "source": [
    "con_nb = confusion_matrix(mf_test_y , pred_nb)\n",
    "con_nb"
   ]
  },
  {
   "cell_type": "code",
   "execution_count": 55,
   "id": "1ba98f88",
   "metadata": {},
   "outputs": [
    {
     "data": {
      "text/plain": [
       "0.6625"
      ]
     },
     "execution_count": 55,
     "metadata": {},
     "output_type": "execute_result"
    }
   ],
   "source": [
    "accuracy_score(mf_test_y , pred_nb)"
   ]
  },
  {
   "cell_type": "code",
   "execution_count": 56,
   "id": "5b1724e9",
   "metadata": {},
   "outputs": [
    {
     "data": {
      "text/plain": [
       "0.06704707560627675"
      ]
     },
     "execution_count": 56,
     "metadata": {},
     "output_type": "execute_result"
    }
   ],
   "source": [
    "precision_score(mf_test_y , pred_nb)"
   ]
  },
  {
   "cell_type": "code",
   "execution_count": 57,
   "id": "3bdb9da5",
   "metadata": {},
   "outputs": [
    {
     "data": {
      "text/plain": [
       "0.6911764705882353"
      ]
     },
     "execution_count": 57,
     "metadata": {},
     "output_type": "execute_result"
    }
   ],
   "source": [
    "recall_score(mf_test_y , pred_nb)"
   ]
  },
  {
   "cell_type": "markdown",
   "id": "5af2c927",
   "metadata": {},
   "source": [
    "# Gradient_boosting"
   ]
  },
  {
   "cell_type": "code",
   "execution_count": 58,
   "id": "c36872d1",
   "metadata": {},
   "outputs": [],
   "source": [
    "from sklearn.ensemble import GradientBoostingClassifier"
   ]
  },
  {
   "cell_type": "code",
   "execution_count": 59,
   "id": "42f9f7c7",
   "metadata": {},
   "outputs": [],
   "source": [
    "gb= GradientBoostingClassifier()"
   ]
  },
  {
   "cell_type": "code",
   "execution_count": 60,
   "id": "48a53558",
   "metadata": {},
   "outputs": [
    {
     "data": {
      "text/plain": [
       "GradientBoostingClassifier()"
      ]
     },
     "execution_count": 60,
     "metadata": {},
     "output_type": "execute_result"
    }
   ],
   "source": [
    "gb.fit(mf_train_x , mf_train_y)"
   ]
  },
  {
   "cell_type": "code",
   "execution_count": 61,
   "id": "991b6ad7",
   "metadata": {},
   "outputs": [],
   "source": [
    "pred_gb = gb.predict(mf_test_x)"
   ]
  },
  {
   "cell_type": "code",
   "execution_count": 62,
   "id": "bc7da95b",
   "metadata": {},
   "outputs": [
    {
     "data": {
      "text/plain": [
       "array([[1926,    6],\n",
       "       [  23,   45]], dtype=int64)"
      ]
     },
     "execution_count": 62,
     "metadata": {},
     "output_type": "execute_result"
    }
   ],
   "source": [
    "con_gb = confusion_matrix(mf_test_y , pred_gb)\n",
    "con_gb"
   ]
  },
  {
   "cell_type": "code",
   "execution_count": 63,
   "id": "460d5069",
   "metadata": {},
   "outputs": [
    {
     "data": {
      "text/plain": [
       "0.9855"
      ]
     },
     "execution_count": 63,
     "metadata": {},
     "output_type": "execute_result"
    }
   ],
   "source": [
    "accuracy_score(mf_test_y , pred_gb)"
   ]
  },
  {
   "cell_type": "code",
   "execution_count": 64,
   "id": "394362e8",
   "metadata": {},
   "outputs": [
    {
     "data": {
      "text/plain": [
       "0.8823529411764706"
      ]
     },
     "execution_count": 64,
     "metadata": {},
     "output_type": "execute_result"
    }
   ],
   "source": [
    "precision_score(mf_test_y , pred_gb)"
   ]
  },
  {
   "cell_type": "code",
   "execution_count": 65,
   "id": "76717747",
   "metadata": {},
   "outputs": [
    {
     "data": {
      "text/plain": [
       "0.6617647058823529"
      ]
     },
     "execution_count": 65,
     "metadata": {},
     "output_type": "execute_result"
    }
   ],
   "source": [
    "recall_score(mf_test_y , pred_gb)"
   ]
  },
  {
   "cell_type": "code",
   "execution_count": 80,
   "id": "15471de3",
   "metadata": {},
   "outputs": [],
   "source": [
    "Comparison_Frame={\"Model Name\":[\"Accuracy\",\"Precision\",\"TPR/Recall\"],\n",
    "                  \"Logistic Reg\":[0.96,0.65,0.21],\n",
    "                  \"Decision Tree\":[0.97,0.65,0.70],\n",
    "                  \"Random Forest\":[0.98,0.90,0.69],\n",
    "                  \"Naive Bayes\":[0.66,0.06,0.69],\n",
    "                  \"Gradient Boosting\":[0.98,0.88,0.66]\n",
    "                 }"
   ]
  },
  {
   "cell_type": "code",
   "execution_count": 81,
   "id": "68626446",
   "metadata": {},
   "outputs": [
    {
     "data": {
      "text/html": [
       "<div>\n",
       "<style scoped>\n",
       "    .dataframe tbody tr th:only-of-type {\n",
       "        vertical-align: middle;\n",
       "    }\n",
       "\n",
       "    .dataframe tbody tr th {\n",
       "        vertical-align: top;\n",
       "    }\n",
       "\n",
       "    .dataframe thead th {\n",
       "        text-align: right;\n",
       "    }\n",
       "</style>\n",
       "<table border=\"1\" class=\"dataframe\">\n",
       "  <thead>\n",
       "    <tr style=\"text-align: right;\">\n",
       "      <th></th>\n",
       "      <th>Model Name</th>\n",
       "      <th>Logistic Reg</th>\n",
       "      <th>Decision Tree</th>\n",
       "      <th>Random Forest</th>\n",
       "      <th>Naive Bayes</th>\n",
       "      <th>Gradient Boosting</th>\n",
       "    </tr>\n",
       "  </thead>\n",
       "  <tbody>\n",
       "    <tr>\n",
       "      <th>0</th>\n",
       "      <td>Accuracy</td>\n",
       "      <td>0.96</td>\n",
       "      <td>0.97</td>\n",
       "      <td>0.98</td>\n",
       "      <td>0.66</td>\n",
       "      <td>0.98</td>\n",
       "    </tr>\n",
       "    <tr>\n",
       "      <th>1</th>\n",
       "      <td>Precision</td>\n",
       "      <td>0.65</td>\n",
       "      <td>0.65</td>\n",
       "      <td>0.90</td>\n",
       "      <td>0.06</td>\n",
       "      <td>0.88</td>\n",
       "    </tr>\n",
       "    <tr>\n",
       "      <th>2</th>\n",
       "      <td>TPR/Recall</td>\n",
       "      <td>0.21</td>\n",
       "      <td>0.70</td>\n",
       "      <td>0.69</td>\n",
       "      <td>0.69</td>\n",
       "      <td>0.66</td>\n",
       "    </tr>\n",
       "  </tbody>\n",
       "</table>\n",
       "</div>"
      ],
      "text/plain": [
       "   Model Name  Logistic Reg  Decision Tree  Random Forest  Naive Bayes  \\\n",
       "0    Accuracy          0.96           0.97           0.98         0.66   \n",
       "1   Precision          0.65           0.65           0.90         0.06   \n",
       "2  TPR/Recall          0.21           0.70           0.69         0.69   \n",
       "\n",
       "   Gradient Boosting  \n",
       "0               0.98  \n",
       "1               0.88  \n",
       "2               0.66  "
      ]
     },
     "execution_count": 81,
     "metadata": {},
     "output_type": "execute_result"
    }
   ],
   "source": [
    "Comparison_Frame = pd.DataFrame(Comparison_Frame)\n",
    "Comparison_Frame"
   ]
  },
  {
   "cell_type": "markdown",
   "id": "af1a9e8f",
   "metadata": {},
   "source": [
    "# Result\n"
   ]
  },
  {
   "cell_type": "markdown",
   "id": "eb89eeb0",
   "metadata": {},
   "source": [
    " (1) we have used Logistic Regression, Desicion Tree, Random Forest, Naive Bayes, Gradient Boost Models.\n",
    " (2) Out of all model Random Forest gives the better Accuracy 0.98 , precision 0.90 and Recall 0.69.\n",
    " (3) so we can say that , Random Forest is the best fit model out of all models."
   ]
  },
  {
   "cell_type": "code",
   "execution_count": null,
   "id": "8511d9d1",
   "metadata": {},
   "outputs": [],
   "source": []
  }
 ],
 "metadata": {
  "kernelspec": {
   "display_name": "Python 3 (ipykernel)",
   "language": "python",
   "name": "python3"
  },
  "language_info": {
   "codemirror_mode": {
    "name": "ipython",
    "version": 3
   },
   "file_extension": ".py",
   "mimetype": "text/x-python",
   "name": "python",
   "nbconvert_exporter": "python",
   "pygments_lexer": "ipython3",
   "version": "3.9.13"
  }
 },
 "nbformat": 4,
 "nbformat_minor": 5
}
